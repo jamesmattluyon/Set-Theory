{
 "cells": [
  {
   "cell_type": "markdown",
   "metadata": {},
   "source": [
    "# Set Theory"
   ]
  },
  {
   "cell_type": "markdown",
   "metadata": {},
   "source": [
    "This code activity will try to guide you in applying the concepts, methods, and rules of Set Theory through code. We will go through with the data types in which Set Theory can be applied, how to write them in equation form im $\\LaTeX$, and then we will try to look at a practical example through a user's requirement."
   ]
  },
  {
   "cell_type": "markdown",
   "metadata": {},
   "source": [
    "### Lists"
   ]
  },
  {
   "cell_type": "markdown",
   "metadata": {},
   "source": [
    "In Python,  the most common iterable collection are lists. In lists, elements are ordered and chageable. Lists are denoted by enclosing objects with square brackets $[ ... ]$. Lists can be accessed through their indices, negative indexing is permitted."
   ]
  },
  {
   "cell_type": "code",
   "execution_count": null,
   "metadata": {},
   "outputs": [],
   "source": [
    "### Declaration\n",
    "employees = ['John', 'Alex', 'Winston', 'Bob', 'Golbi'] ## Best practice when making a list of objects, list variable names should be in plural form "
   ]
  },
  {
   "cell_type": "code",
   "execution_count": null,
   "metadata": {},
   "outputs": [],
   "source": [
    "### Single Access\n",
    "employees[-2]"
   ]
  },
  {
   "cell_type": "code",
   "execution_count": null,
   "metadata": {},
   "outputs": [],
   "source": [
    "### Multiple Access\n",
    "employees[::-1]"
   ]
  },
  {
   "cell_type": "code",
   "execution_count": null,
   "metadata": {},
   "outputs": [],
   "source": [
    "### Multiple Access via Loops\n",
    "for employee in employees: ## To make coding a bit more intuitive, we use the singular form of the list variable name to denote its elements.\n",
    "    print(\"Hi \",employee)"
   ]
  },
  {
   "cell_type": "code",
   "execution_count": null,
   "metadata": {},
   "outputs": [],
   "source": [
    "### Multiple Access via Loops\n",
    "\n",
    "for i in range(len(employees)): ## You could also use indices for iterations.\n",
    "    if(i%2 == 0):\n",
    "        print(employees[i])"
   ]
  },
  {
   "cell_type": "code",
   "execution_count": null,
   "metadata": {},
   "outputs": [],
   "source": [
    "### Modifying Elements\n",
    "employees[3] = 'John'\n",
    "employees[-1] = 'Jimmy'\n",
    "print(employees)"
   ]
  },
  {
   "cell_type": "code",
   "execution_count": null,
   "metadata": {},
   "outputs": [],
   "source": [
    "### Adding Elements\n",
    "# employees.append(\"Elfaba\")\n",
    "\n",
    "employees.insert(2, \"Ozai\")\n",
    "print(employees)"
   ]
  },
  {
   "cell_type": "code",
   "execution_count": null,
   "metadata": {},
   "outputs": [],
   "source": [
    "### Removing Elements\n",
    "# employees.pop() \n",
    "\n",
    "# employees.remove(\"Ozai\")\n",
    "\n",
    "# del employees[-1]\n",
    "\n",
    "employees.clear()\n",
    "employees"
   ]
  },
  {
   "cell_type": "markdown",
   "metadata": {},
   "source": [
    "### Tuples"
   ]
  },
  {
   "cell_type": "markdown",
   "metadata": {},
   "source": [
    "Tuples are another collection data type in Python. There are several key differences between lists and tuples:\n",
    "- Tuples are ordered collections, so order cannot be rearranged or modified.\n",
    "- Since tuples are ordered collections $(a, b) \\neq (b, a)$\n",
    "- They are declared and denoted using parentheses $( ...)$"
   ]
  },
  {
   "cell_type": "code",
   "execution_count": null,
   "metadata": {},
   "outputs": [],
   "source": [
    "### Declaration\n",
    "pix1_colors = (255, 0 , 0)  ## In image processing, this is called a tuple consisting of channels. \n",
    "                            ##It is structured as (Red, Green, Blue) such that the values in each channe; ranges from 0 - 255 \n",
    "pix2_colors = (64, 128, 111)"
   ]
  },
  {
   "cell_type": "code",
   "execution_count": null,
   "metadata": {},
   "outputs": [],
   "source": [
    "### Single Access\n",
    "green = pix2_colors[1]\n",
    "green"
   ]
  },
  {
   "cell_type": "code",
   "execution_count": null,
   "metadata": {},
   "outputs": [],
   "source": [
    "pix1_colors[2] = 128"
   ]
  },
  {
   "cell_type": "code",
   "execution_count": null,
   "metadata": {},
   "outputs": [],
   "source": [
    "### Multiple Access\n",
    "pix2_colors[::2]"
   ]
  },
  {
   "cell_type": "code",
   "execution_count": null,
   "metadata": {},
   "outputs": [],
   "source": [
    "### Multiple Access via Loops\n",
    "for color in pix2_colors:\n",
    "    print(color)"
   ]
  },
  {
   "cell_type": "code",
   "execution_count": null,
   "metadata": {},
   "outputs": [],
   "source": [
    "car_xpos = (3, 5, 12, 15)\n",
    "car_ypos = (0, 1, 5, 2)\n",
    "### Multiple Access via Parallel Iteration\n",
    "for pos in zip(car_xpos, car_ypos):\n",
    "    print(f'Coordinates of cars in ordered pair form: {pos}')"
   ]
  },
  {
   "cell_type": "code",
   "execution_count": null,
   "metadata": {},
   "outputs": [],
   "source": [
    "for px_colors in zip(pix1_colors, pix2_colors):\n",
    "    print(px_colors)"
   ]
  },
  {
   "cell_type": "code",
   "execution_count": null,
   "metadata": {},
   "outputs": [],
   "source": [
    "### Modifying Elements\n",
    "\n",
    "car_xpos[0] = 0\n"
   ]
  },
  {
   "cell_type": "code",
   "execution_count": null,
   "metadata": {},
   "outputs": [],
   "source": [
    "### Removing Elements\n",
    "\n",
    "del pix1_colors[0]\n"
   ]
  },
  {
   "cell_type": "code",
   "execution_count": null,
   "metadata": {},
   "outputs": [],
   "source": [
    "### Merging Tuples\n",
    "car_pos = car_xpos + car_ypos\n",
    "car_pos"
   ]
  },
  {
   "cell_type": "markdown",
   "metadata": {},
   "source": [
    "### Sets"
   ]
  },
  {
   "cell_type": "markdown",
   "metadata": {},
   "source": [
    "Sets are collections which are unordered and unindexed. Repititions are not allowed in set structures and they are denoted by curly brackets $\\{ ... \\}$."
   ]
  },
  {
   "cell_type": "code",
   "execution_count": 4,
   "metadata": {},
   "outputs": [],
   "source": [
    "### Declaration\n",
    "bakery_A = {'bread', 'cracker', 'croissant', 'eclair', 'parfait','cannele', 'coffee','tea'}\n",
    "bakery_B = {'bread', 'croissant', 'donuts', 'cinnamon roll', 'cookies','coffee','tea'}\n",
    "bakery_C = {'bread', 'bread', 'bread'}"
   ]
  },
  {
   "cell_type": "code",
   "execution_count": 7,
   "metadata": {},
   "outputs": [
    {
     "name": "stdout",
     "output_type": "stream",
     "text": [
      "{'bread'}\n"
     ]
    }
   ],
   "source": [
    "print(bakery_C)"
   ]
  },
  {
   "cell_type": "code",
   "execution_count": 2,
   "metadata": {},
   "outputs": [
    {
     "ename": "TypeError",
     "evalue": "'set' object is not subscriptable",
     "output_type": "error",
     "traceback": [
      "\u001b[1;31m---------------------------------------------------------------------------\u001b[0m",
      "\u001b[1;31mTypeError\u001b[0m                                 Traceback (most recent call last)",
      "\u001b[1;32m<ipython-input-2-f0826fdf6907>\u001b[0m in \u001b[0;36m<module>\u001b[1;34m\u001b[0m\n\u001b[0;32m      1\u001b[0m \u001b[1;31m### Accessing Elements\u001b[0m\u001b[1;33m\u001b[0m\u001b[1;33m\u001b[0m\u001b[1;33m\u001b[0m\u001b[0m\n\u001b[1;32m----> 2\u001b[1;33m \u001b[0mbakery_A\u001b[0m\u001b[1;33m[\u001b[0m\u001b[1;36m0\u001b[0m\u001b[1;33m]\u001b[0m\u001b[1;33m\u001b[0m\u001b[1;33m\u001b[0m\u001b[0m\n\u001b[0m",
      "\u001b[1;31mTypeError\u001b[0m: 'set' object is not subscriptable"
     ]
    }
   ],
   "source": [
    "### Accessing Elements\n",
    "bakery_A[0]"
   ]
  },
  {
   "cell_type": "code",
   "execution_count": 3,
   "metadata": {},
   "outputs": [
    {
     "name": "stdout",
     "output_type": "stream",
     "text": [
      "bread\n",
      "coffee\n",
      "cracker\n",
      "eclair\n",
      "croissant\n",
      "cannele\n",
      "tea\n",
      "parfait\n"
     ]
    }
   ],
   "source": [
    "### Multiple Access via Loops\n",
    "for product in bakery_A:\n",
    "    print(product)"
   ]
  },
  {
   "cell_type": "code",
   "execution_count": 8,
   "metadata": {},
   "outputs": [
    {
     "name": "stdout",
     "output_type": "stream",
     "text": [
      "{'bread', 'coffee', 'cracker', 'eclair', 'croissant', 'cannele', 'tea', 'parfait'}\n",
      "{'bread', 'coffee', 'cracker', 'eclair', 'croissant', 'tea', 'parfait'}\n"
     ]
    }
   ],
   "source": [
    "### Removing an Element\n",
    "print(bakery_A)\n",
    "bakery_A.remove('cannele')\n",
    "print(bakery_A)"
   ]
  },
  {
   "cell_type": "code",
   "execution_count": 15,
   "metadata": {},
   "outputs": [
    {
     "data": {
      "text/plain": [
       "False"
      ]
     },
     "execution_count": 15,
     "metadata": {},
     "output_type": "execute_result"
    }
   ],
   "source": [
    "### Membership\n",
    "# print('cannele' in bakery_A)\n",
    "### Subsets\n",
    "order = {'coffee', 'tea', 'donuts'}\n",
    "order.issubset(bakery_A)"
   ]
  },
  {
   "cell_type": "code",
   "execution_count": 17,
   "metadata": {},
   "outputs": [
    {
     "name": "stdout",
     "output_type": "stream",
     "text": [
      "{'bread', 'coffee', 'cracker', 'eclair', 'croissant', 'tea', 'parfait'}\n",
      "{'cookies', 'bread', 'coffee', 'cinnamon roll', 'croissant', 'tea', 'donuts'}\n"
     ]
    },
    {
     "data": {
      "text/plain": [
       "{'bread',\n",
       " 'cinnamon roll',\n",
       " 'coffee',\n",
       " 'cookies',\n",
       " 'cracker',\n",
       " 'croissant',\n",
       " 'donuts',\n",
       " 'eclair',\n",
       " 'parfait',\n",
       " 'tea'}"
      ]
     },
     "execution_count": 17,
     "metadata": {},
     "output_type": "execute_result"
    }
   ],
   "source": [
    "### Union\n",
    "print(bakery_A)\n",
    "print(bakery_B)\n",
    "baker_st = bakery_A.union(bakery_B)\n",
    "baker_st"
   ]
  },
  {
   "cell_type": "code",
   "execution_count": 18,
   "metadata": {},
   "outputs": [
    {
     "data": {
      "text/plain": [
       "{'bread', 'coffee', 'croissant', 'tea'}"
      ]
     },
     "execution_count": 18,
     "metadata": {},
     "output_type": "execute_result"
    }
   ],
   "source": [
    "### Intersection\n",
    "bakery_A.intersection(bakery_B)"
   ]
  },
  {
   "cell_type": "code",
   "execution_count": 20,
   "metadata": {},
   "outputs": [
    {
     "data": {
      "text/plain": [
       "{'cinnamon roll', 'cookies', 'donuts'}"
      ]
     },
     "execution_count": 20,
     "metadata": {},
     "output_type": "execute_result"
    }
   ],
   "source": [
    "### Difference\n",
    "### Unique elements that is in Bakery but not in Bakery B\n",
    "bakery_B.difference(bakery_A)"
   ]
  },
  {
   "cell_type": "markdown",
   "metadata": {},
   "source": [
    "### Dictionaries"
   ]
  },
  {
   "cell_type": "markdown",
   "metadata": {},
   "source": [
    "Dictionaries are collections which is unordered, changeable like sets but are indexed. Like sets, they are denoted witn $\\{...\\}$ but objects are characterized by <b>keys</b> and described using <b>values</b>."
   ]
  },
  {
   "cell_type": "code",
   "execution_count": 21,
   "metadata": {},
   "outputs": [],
   "source": [
    "### Declaration\n",
    "bakery_A_prices = {'bread' : 60, \n",
    "            'cracker': 15, \n",
    "            'croissant': 40, \n",
    "           }"
   ]
  },
  {
   "cell_type": "code",
   "execution_count": 22,
   "metadata": {},
   "outputs": [
    {
     "data": {
      "text/plain": [
       "60"
      ]
     },
     "execution_count": 22,
     "metadata": {},
     "output_type": "execute_result"
    }
   ],
   "source": [
    "## Accessing\n",
    "bakery_A_prices['bread']"
   ]
  },
  {
   "cell_type": "code",
   "execution_count": 23,
   "metadata": {},
   "outputs": [
    {
     "name": "stdout",
     "output_type": "stream",
     "text": [
      "bread\n",
      "cracker\n",
      "croissant\n"
     ]
    }
   ],
   "source": [
    "## Accessing via Loops\n",
    "for product in bakery_A_prices:\n",
    "    print(product)"
   ]
  },
  {
   "cell_type": "code",
   "execution_count": 24,
   "metadata": {},
   "outputs": [
    {
     "name": "stdout",
     "output_type": "stream",
     "text": [
      "60\n",
      "15\n",
      "40\n"
     ]
    }
   ],
   "source": [
    "for product in bakery_A_prices:\n",
    "    print(bakery_A_prices[product])"
   ]
  },
  {
   "cell_type": "code",
   "execution_count": 25,
   "metadata": {},
   "outputs": [
    {
     "name": "stdout",
     "output_type": "stream",
     "text": [
      "60\n",
      "15\n",
      "40\n"
     ]
    }
   ],
   "source": [
    "for price in bakery_A_prices.values():\n",
    "    print(price)"
   ]
  },
  {
   "cell_type": "code",
   "execution_count": 26,
   "metadata": {},
   "outputs": [
    {
     "name": "stdout",
     "output_type": "stream",
     "text": [
      "bread 60\n",
      "cracker 15\n",
      "croissant 40\n"
     ]
    }
   ],
   "source": [
    "for product, price in bakery_A_prices.items():\n",
    "    print(product, price)"
   ]
  },
  {
   "cell_type": "code",
   "execution_count": 28,
   "metadata": {},
   "outputs": [
    {
     "name": "stdout",
     "output_type": "stream",
     "text": [
      "48.0\n",
      "38.400000000000006\n"
     ]
    }
   ],
   "source": [
    "## Update / Modification\n",
    "print(bakery_A_prices['bread'])\n",
    "bakery_A_prices['bread'] *= 0.8\n",
    "print(bakery_A_prices['bread'])"
   ]
  },
  {
   "cell_type": "code",
   "execution_count": 29,
   "metadata": {},
   "outputs": [
    {
     "name": "stdout",
     "output_type": "stream",
     "text": [
      "{'bread': 38.400000000000006, 'cracker': 15, 'croissant': 40}\n",
      "{'bread': 38.400000000000006, 'cracker': 15, 'croissant': 40, 'coffee': 110}\n"
     ]
    }
   ],
   "source": [
    "## Adding Elements\n",
    "print(bakery_A_prices)\n",
    "bakery_A_prices['coffee'] = 110\n",
    "print(bakery_A_prices)"
   ]
  },
  {
   "cell_type": "code",
   "execution_count": 31,
   "metadata": {},
   "outputs": [
    {
     "name": "stdout",
     "output_type": "stream",
     "text": [
      "{'bread': 38.400000000000006, 'cracker': 15, 'croissant': 40, 'coffee': 110}\n",
      "15\n",
      "{'bread': 38.400000000000006, 'croissant': 40, 'coffee': 110}\n"
     ]
    }
   ],
   "source": [
    "## Removing Elements\n",
    "print(bakery_A_prices)\n",
    "print(bakery_A_prices.pop('cracker'))\n",
    "print(bakery_A_prices)"
   ]
  },
  {
   "cell_type": "code",
   "execution_count": null,
   "metadata": {},
   "outputs": [],
   "source": []
  },
  {
   "cell_type": "code",
   "execution_count": null,
   "metadata": {},
   "outputs": [],
   "source": []
  },
  {
   "cell_type": "code",
   "execution_count": null,
   "metadata": {},
   "outputs": [],
   "source": []
  },
  {
   "cell_type": "code",
   "execution_count": null,
   "metadata": {},
   "outputs": [],
   "source": []
  },
  {
   "cell_type": "code",
   "execution_count": null,
   "metadata": {},
   "outputs": [],
   "source": []
  },
  {
   "cell_type": "code",
   "execution_count": null,
   "metadata": {},
   "outputs": [],
   "source": []
  },
  {
   "cell_type": "code",
   "execution_count": null,
   "metadata": {},
   "outputs": [],
   "source": []
  },
  {
   "cell_type": "markdown",
   "metadata": {},
   "source": [
    "## Dataset Operations"
   ]
  },
  {
   "cell_type": "markdown",
   "metadata": {},
   "source": [
    "For this section, we will use the sets below to practice some practical dataset operations."
   ]
  },
  {
   "cell_type": "code",
   "execution_count": 32,
   "metadata": {},
   "outputs": [],
   "source": [
    "cpe_courses = [\"Object-Oriented Programming\", \"Data Structures and Algorithms\", \"Discrete Mathematics\", \"Linear Algebra\",\n",
    "               \"Database Management\",\"Logic Circuits\", \"Computer Automation\",\"Digital Signals Processing\", \"Computer System Architecture and Organization\"]\n",
    "cs_courses = [\"Object-Oriented Programming\", \"Data Structures and Algorithms\", \"Automata\", \"Programming Language Theory\",\n",
    "             \"Discrete Mathematics\", \"Database Management\", \"Human Computer Interaction\", \"Information Security\", \"Information Management\"]"
   ]
  },
  {
   "cell_type": "code",
   "execution_count": 35,
   "metadata": {},
   "outputs": [],
   "source": [
    "cpe = set(cpe_courses)\n",
    "cs = set(cs_courses)\n"
   ]
  },
  {
   "cell_type": "markdown",
   "metadata": {},
   "source": [
    "### Inner Join"
   ]
  },
  {
   "cell_type": "code",
   "execution_count": 40,
   "metadata": {},
   "outputs": [
    {
     "data": {
      "text/plain": [
       "{'Data Structures and Algorithms',\n",
       " 'Database Management',\n",
       " 'Discrete Mathematics',\n",
       " 'Object-Oriented Programming'}"
      ]
     },
     "execution_count": 40,
     "metadata": {},
     "output_type": "execute_result"
    }
   ],
   "source": [
    "## Find the common things between the sets\n",
    "## Intersection\n",
    "common = cpe.intersection(cs)\n",
    "common ## inner join"
   ]
  },
  {
   "cell_type": "markdown",
   "metadata": {},
   "source": [
    "### Left Join"
   ]
  },
  {
   "cell_type": "code",
   "execution_count": 41,
   "metadata": {},
   "outputs": [
    {
     "data": {
      "text/plain": [
       "{'Computer Automation',\n",
       " 'Computer System Architecture and Organization',\n",
       " 'Data Structures and Algorithms',\n",
       " 'Database Management',\n",
       " 'Digital Signals Processing',\n",
       " 'Discrete Mathematics',\n",
       " 'Linear Algebra',\n",
       " 'Logic Circuits',\n",
       " 'Object-Oriented Programming'}"
      ]
     },
     "execution_count": 41,
     "metadata": {},
     "output_type": "execute_result"
    }
   ],
   "source": [
    "cpe_ljoin = common.union(cpe)\n",
    "cpe_ljoin"
   ]
  },
  {
   "cell_type": "markdown",
   "metadata": {},
   "source": [
    "### Right Join"
   ]
  },
  {
   "cell_type": "code",
   "execution_count": 42,
   "metadata": {},
   "outputs": [
    {
     "data": {
      "text/plain": [
       "{'Automata',\n",
       " 'Data Structures and Algorithms',\n",
       " 'Database Management',\n",
       " 'Discrete Mathematics',\n",
       " 'Human Computer Interaction',\n",
       " 'Information Management',\n",
       " 'Information Security',\n",
       " 'Object-Oriented Programming',\n",
       " 'Programming Language Theory'}"
      ]
     },
     "execution_count": 42,
     "metadata": {},
     "output_type": "execute_result"
    }
   ],
   "source": [
    "cs_rjoin = common.union(cs)\n",
    "cs_rjoin"
   ]
  },
  {
   "cell_type": "markdown",
   "metadata": {},
   "source": [
    "### Left Exclusive Join"
   ]
  },
  {
   "cell_type": "code",
   "execution_count": 45,
   "metadata": {},
   "outputs": [
    {
     "data": {
      "text/plain": [
       "{'Computer Automation',\n",
       " 'Computer System Architecture and Organization',\n",
       " 'Digital Signals Processing',\n",
       " 'Linear Algebra',\n",
       " 'Logic Circuits'}"
      ]
     },
     "execution_count": 45,
     "metadata": {},
     "output_type": "execute_result"
    }
   ],
   "source": [
    "cpe_exljoin = cpe.difference(cs)\n",
    "cpe_exljoin"
   ]
  },
  {
   "cell_type": "markdown",
   "metadata": {},
   "source": [
    "### Right Exclusive Join"
   ]
  },
  {
   "cell_type": "code",
   "execution_count": 46,
   "metadata": {},
   "outputs": [
    {
     "data": {
      "text/plain": [
       "{'Automata',\n",
       " 'Human Computer Interaction',\n",
       " 'Information Management',\n",
       " 'Information Security',\n",
       " 'Programming Language Theory'}"
      ]
     },
     "execution_count": 46,
     "metadata": {},
     "output_type": "execute_result"
    }
   ],
   "source": [
    "cs_exrjoin = cs.difference(cpe)\n",
    "cs_exrjoin"
   ]
  },
  {
   "cell_type": "markdown",
   "metadata": {},
   "source": [
    "### Full Outer Join"
   ]
  },
  {
   "cell_type": "code",
   "execution_count": 47,
   "metadata": {
    "scrolled": true
   },
   "outputs": [
    {
     "data": {
      "text/plain": [
       "{'Automata',\n",
       " 'Computer Automation',\n",
       " 'Computer System Architecture and Organization',\n",
       " 'Data Structures and Algorithms',\n",
       " 'Database Management',\n",
       " 'Digital Signals Processing',\n",
       " 'Discrete Mathematics',\n",
       " 'Human Computer Interaction',\n",
       " 'Information Management',\n",
       " 'Information Security',\n",
       " 'Linear Algebra',\n",
       " 'Logic Circuits',\n",
       " 'Object-Oriented Programming',\n",
       " 'Programming Language Theory'}"
      ]
     },
     "execution_count": 47,
     "metadata": {},
     "output_type": "execute_result"
    }
   ],
   "source": [
    "## Union\n",
    "full_outer = cpe.union(cs)\n",
    "full_outer"
   ]
  },
  {
   "cell_type": "code",
   "execution_count": null,
   "metadata": {},
   "outputs": [],
   "source": []
  },
  {
   "cell_type": "markdown",
   "metadata": {},
   "source": [
    "### Full Outer Exclusive Join"
   ]
  },
  {
   "cell_type": "code",
   "execution_count": 48,
   "metadata": {},
   "outputs": [
    {
     "data": {
      "text/plain": [
       "{'Automata',\n",
       " 'Computer Automation',\n",
       " 'Computer System Architecture and Organization',\n",
       " 'Digital Signals Processing',\n",
       " 'Human Computer Interaction',\n",
       " 'Information Management',\n",
       " 'Information Security',\n",
       " 'Linear Algebra',\n",
       " 'Logic Circuits',\n",
       " 'Programming Language Theory'}"
      ]
     },
     "execution_count": 48,
     "metadata": {},
     "output_type": "execute_result"
    }
   ],
   "source": [
    "## XOR\n",
    "full_xouter = (cpe.difference(cs)).union(cs.difference(cpe))\n",
    "full_xouter"
   ]
  },
  {
   "cell_type": "markdown",
   "metadata": {},
   "source": [
    "## Scratch Area (Only for 201815069) "
   ]
  },
  {
   "cell_type": "markdown",
   "metadata": {},
   "source": [
    "Coder: James Matthew Luyon        \n",
    "\n",
    "Motto: while(!(IsNotYetSucceed = tryAndtry())):\n",
    "            print(\"Try lang ng try :D\")"
   ]
  },
  {
   "cell_type": "markdown",
   "metadata": {},
   "source": [
    "# FOR CODING SETS (SET THEORY)"
   ]
  },
  {
   "cell_type": "markdown",
   "metadata": {},
   "source": [
    "This is how I used different join methods using my Fandom."
   ]
  },
  {
   "cell_type": "code",
   "execution_count": 3,
   "metadata": {},
   "outputs": [],
   "source": [
    "pokemon_sg1 = [\"eevee\",\"pickachu\",\"baulbasaur\",\"charmander\",\"squirtle\",\"mew-two\",\"arceus\",\"zapdos\",\"moltres\",\"articuno\"]\n",
    "pokemon_sg2 = [\"eevee\",\"chicorita\",\"cyndaquil\",\"totodile\",\"arceus\",\"ho-oh\",\"lugia\"] \n",
    "\n",
    "lord_of_the_rings = [\"Gandalf\",\"Bilbo\",\"Frodo\",\"Sam\",\"Aragorn\",\"Gimli\",\"Legolas\"]\n",
    "the_hobbits = [\"Gandalf\",\"Bilbo\",\"Thorin\",\"Balin\",\"Kili\",\"Fili\",\"Gloin\"]\n",
    "\n",
    "wizards_1 = [\"Harry\",\"Hermione\",\"Ron\",\"Snape\",\"Dumbledore\"]\n",
    "wizards_2 = [\"Dumbledore\",\"Newt\",\"Grindelwald\",\"Credence\"]"
   ]
  },
  {
   "cell_type": "code",
   "execution_count": 4,
   "metadata": {},
   "outputs": [],
   "source": [
    "psg1 = set(pokemon_sg1)\n",
    "psg2 = set(pokemon_sg2)\n",
    "\n",
    "lotr = set(lord_of_the_rings)\n",
    "th = set(the_hobbits)\n",
    "\n",
    "w1 = set(wizards_1)\n",
    "w2 = set(wizards_2)\n"
   ]
  },
  {
   "cell_type": "markdown",
   "metadata": {},
   "source": [
    "# inner join (Fandoms)"
   ]
  },
  {
   "cell_type": "code",
   "execution_count": 15,
   "metadata": {},
   "outputs": [
    {
     "data": {
      "text/plain": [
       "{'arceus', 'eevee'}"
      ]
     },
     "execution_count": 15,
     "metadata": {},
     "output_type": "execute_result"
    }
   ],
   "source": [
    "'''\n",
    "To see the intersection of the other sets just add '#'(from the previous declared output variable) and remove '#'(from the \n",
    "declared output variable you want to see the output), because it will only execute and printed-out the last line of the code.\n",
    "''' \n",
    " \n",
    "common1 = psg1.intersection(psg2) \n",
    "common2 = lotr.intersection(th)\n",
    "common3 = w1.intersection(w2)\n",
    "\n",
    "common1 \n",
    "#common2\n",
    "#common3"
   ]
  },
  {
   "cell_type": "markdown",
   "metadata": {},
   "source": [
    "# left join (Fandoms)\n"
   ]
  },
  {
   "cell_type": "code",
   "execution_count": 23,
   "metadata": {},
   "outputs": [
    {
     "data": {
      "text/plain": [
       "{'arceus',\n",
       " 'articuno',\n",
       " 'baulbasaur',\n",
       " 'charmander',\n",
       " 'eevee',\n",
       " 'mew-two',\n",
       " 'moltres',\n",
       " 'pickachu',\n",
       " 'squirtle',\n",
       " 'zapdos'}"
      ]
     },
     "execution_count": 23,
     "metadata": {},
     "output_type": "execute_result"
    }
   ],
   "source": [
    "'''\n",
    "To see the left join of the other sets just add '#'(from the previous declared output variable) and remove '#'(from the \n",
    "declared output variable you want to see the output), because it will only execute and printed-out the last line of the code.\n",
    "'''\n",
    "\n",
    "psg1_ljoin = common1.union(psg1)\n",
    "lotr_ljoin = common2.union(lotr)\n",
    "w1_ljoin = common3.union(w1)\n",
    "\n",
    "psg1_ljoin\n",
    "#lotr_ljoin\n",
    "#w1_ljoin"
   ]
  },
  {
   "cell_type": "markdown",
   "metadata": {},
   "source": [
    "# right join (Fandoms)"
   ]
  },
  {
   "cell_type": "code",
   "execution_count": 24,
   "metadata": {},
   "outputs": [
    {
     "data": {
      "text/plain": [
       "{'arceus', 'chicorita', 'cyndaquil', 'eevee', 'ho-oh', 'lugia', 'totodile'}"
      ]
     },
     "execution_count": 24,
     "metadata": {},
     "output_type": "execute_result"
    }
   ],
   "source": [
    "'''\n",
    "To see the right join of the other sets just add '#'(from the previous declared output variable) and remove '#'(from the \n",
    "declared output variable you want to see the output), because it will only execute and printed-out the last line of the code.\n",
    "'''\n",
    "\n",
    "psg2_rjoin = common1.union(psg2)\n",
    "th_rjoin = common2.union(th)\n",
    "w2_rjoin = common3.union(w2)\n",
    "\n",
    "psg2_rjoin\n",
    "#th_rjoin\n",
    "#w2_rjoin"
   ]
  },
  {
   "cell_type": "markdown",
   "metadata": {},
   "source": [
    "# left exclusive join (Fandoms)"
   ]
  },
  {
   "cell_type": "code",
   "execution_count": 28,
   "metadata": {},
   "outputs": [
    {
     "data": {
      "text/plain": [
       "{'articuno',\n",
       " 'baulbasaur',\n",
       " 'charmander',\n",
       " 'mew-two',\n",
       " 'moltres',\n",
       " 'pickachu',\n",
       " 'squirtle',\n",
       " 'zapdos'}"
      ]
     },
     "execution_count": 28,
     "metadata": {},
     "output_type": "execute_result"
    }
   ],
   "source": [
    "'''\n",
    "To see the left exclusive join of the other sets just add '#'(from the previous declared output variable) and remove '#'(from the \n",
    "declared output variable you want to see the output), because it will only execute and printed-out the last line of the code.\n",
    "'''\n",
    "\n",
    "psg1_lexljoin = psg1.difference(psg2)\n",
    "lotr_lexljoin = lotr.difference(th)\n",
    "w1_lexljoin = w1.difference(w2)\n",
    "\n",
    "psg1_lexljoin\n",
    "#lotr_lexljoin\n",
    "#w1_lexljoin"
   ]
  },
  {
   "cell_type": "markdown",
   "metadata": {},
   "source": [
    "# right exclusive join (Fandoms)\n"
   ]
  },
  {
   "cell_type": "code",
   "execution_count": 35,
   "metadata": {},
   "outputs": [
    {
     "data": {
      "text/plain": [
       "{'chicorita', 'cyndaquil', 'ho-oh', 'lugia', 'totodile'}"
      ]
     },
     "execution_count": 35,
     "metadata": {},
     "output_type": "execute_result"
    }
   ],
   "source": [
    "'''\n",
    "To see the right exclusive join of the other sets just add '#'(from the previous declared output variable) and remove '#'(from the \n",
    "declared output variable you want to see the output), because it will only execute and printed-out the last line of the code.\n",
    "'''\n",
    "\n",
    "psg2_rexljoin = psg2.difference(psg1)\n",
    "th_rexljoin = th.difference(lotr)\n",
    "w2_rexljoin = w2.difference(w1)\n",
    "\n",
    "psg2_rexljoin\n",
    "#th_rexljoin\n",
    "#w2_rexljoin"
   ]
  },
  {
   "cell_type": "markdown",
   "metadata": {},
   "source": [
    "# full outer join (Fandoms)"
   ]
  },
  {
   "cell_type": "code",
   "execution_count": 37,
   "metadata": {},
   "outputs": [
    {
     "data": {
      "text/plain": [
       "{'Aragorn',\n",
       " 'Balin',\n",
       " 'Bilbo',\n",
       " 'Credence',\n",
       " 'Dumbledore',\n",
       " 'Fili',\n",
       " 'Frodo',\n",
       " 'Gandalf',\n",
       " 'Gimli',\n",
       " 'Gloin',\n",
       " 'Grindelwald',\n",
       " 'Harry',\n",
       " 'Hermione',\n",
       " 'Kili',\n",
       " 'Legolas',\n",
       " 'Newt',\n",
       " 'Ron',\n",
       " 'Sam',\n",
       " 'Snape',\n",
       " 'Thorin',\n",
       " 'arceus',\n",
       " 'articuno',\n",
       " 'baulbasaur',\n",
       " 'charmander',\n",
       " 'chicorita',\n",
       " 'cyndaquil',\n",
       " 'eevee',\n",
       " 'ho-oh',\n",
       " 'lugia',\n",
       " 'mew-two',\n",
       " 'moltres',\n",
       " 'pickachu',\n",
       " 'squirtle',\n",
       " 'totodile',\n",
       " 'zapdos'}"
      ]
     },
     "execution_count": 37,
     "metadata": {},
     "output_type": "execute_result"
    }
   ],
   "source": [
    "'''\n",
    "I just put all of them together so that no one is left behind lols kidding aside.....\n",
    "\n",
    "Note: \n",
    "To see the full outer join of the other sets separately just remove '#'(from the line of code you want to execute)\n",
    "'''\n",
    "# f_outer1 = psg1.union(psg2)\n",
    "# f_outer2 = lotr.union(th) \n",
    "# f_outer3 = w1.union(w2)\n",
    "# f_outer1\n",
    "# f_outer2\n",
    "# f_outer3\n",
    "\n",
    "full_outer_ofAllSets = psg1.union(psg2,lotr,th,w1,w2)\n",
    "full_outer_ofAllSets"
   ]
  },
  {
   "cell_type": "markdown",
   "metadata": {},
   "source": [
    "# full outer exclusive join (Fandoms)"
   ]
  },
  {
   "cell_type": "code",
   "execution_count": 42,
   "metadata": {},
   "outputs": [
    {
     "data": {
      "text/plain": [
       "{'articuno',\n",
       " 'baulbasaur',\n",
       " 'charmander',\n",
       " 'chicorita',\n",
       " 'cyndaquil',\n",
       " 'ho-oh',\n",
       " 'lugia',\n",
       " 'mew-two',\n",
       " 'moltres',\n",
       " 'pickachu',\n",
       " 'squirtle',\n",
       " 'totodile',\n",
       " 'zapdos'}"
      ]
     },
     "execution_count": 42,
     "metadata": {},
     "output_type": "execute_result"
    }
   ],
   "source": [
    "'''\n",
    "This also called the exclusive disjunction or XOR.....\n",
    "I just failed to prove that in midterm exam lols cos I got mental block and Sabaw, well can't turn back in time but the thing\n",
    "is atleast we try lols. So moving on the sample...\n",
    "\n",
    "Note:\n",
    "To see the full outer exclusive join of the other sets just add '#'(from the previous declared output variable) and remove '#'(from the \n",
    "declared output variable you want to see the output), because it will only execute and printed-out the last line of the code.\n",
    "\n",
    "'''\n",
    "\n",
    "f_xouter1 = (psg1.difference(psg2)).union(psg2.difference(psg1))\n",
    "f_xouter2 = (lotr.difference(th)).union(th.difference(lotr))\n",
    "f_xouter3 = (w1.difference(w2)).union(w2.difference(w1))\n",
    "\n",
    "f_xouter1\n",
    "#f_xouter2\n",
    "#f_xouter3"
   ]
  },
  {
   "cell_type": "markdown",
   "metadata": {},
   "source": [
    "# FOR USING OTHER FUNCTION JUST FOR PRACTICE"
   ]
  },
  {
   "cell_type": "code",
   "execution_count": 49,
   "metadata": {},
   "outputs": [
    {
     "data": {
      "text/plain": [
       "'ho-oh'"
      ]
     },
     "execution_count": 49,
     "metadata": {},
     "output_type": "execute_result"
    }
   ],
   "source": [
    "# It works for the index\n",
    "pokemon_sg2[5]"
   ]
  },
  {
   "cell_type": "code",
   "execution_count": 50,
   "metadata": {},
   "outputs": [
    {
     "name": "stdout",
     "output_type": "stream",
     "text": [
      "['eevee', 'chicorita', 'AkoDinPokemon', 'cyndaquil', 'totodile', 'arceus', 'ho-oh', 'lugia']\n"
     ]
    }
   ],
   "source": [
    "# Yeeeess It works for the inseting character/string\n",
    "pokemon_sg2.insert(2,\"AkoDinPokemon\")\n",
    "print(pokemon_sg2)"
   ]
  },
  {
   "cell_type": "code",
   "execution_count": 51,
   "metadata": {},
   "outputs": [],
   "source": [
    "# Well if this line of codes works for the indexes and inserting another characters therefore, it can also delete and modify\n",
    "# the data from the list and that's all thank you for reading my comments and seeing ny line of codes hope you did great today. "
   ]
  },
  {
   "cell_type": "code",
   "execution_count": null,
   "metadata": {},
   "outputs": [],
   "source": []
  }
 ],
 "metadata": {
  "kernelspec": {
   "display_name": "Python 3",
   "language": "python",
   "name": "python3"
  },
  "language_info": {
   "codemirror_mode": {
    "name": "ipython",
    "version": 3
   },
   "file_extension": ".py",
   "mimetype": "text/x-python",
   "name": "python",
   "nbconvert_exporter": "python",
   "pygments_lexer": "ipython3",
   "version": "3.9.0"
  }
 },
 "nbformat": 4,
 "nbformat_minor": 4
}
